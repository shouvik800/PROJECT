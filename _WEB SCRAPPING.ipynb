{
 "cells": [
  {
   "cell_type": "code",
   "execution_count": 1,
   "id": "7ba730d9-3a7e-4947-921e-7dab660248ca",
   "metadata": {},
   "outputs": [],
   "source": [
    "import requests\n",
    "from bs4 import BeautifulSoup as bs # BeautifulSoup HELPS TO BEAUTIFY THE HTML PAGE DATA\n",
    "from urllib.request import urlopen as uReq # IT PROVIDES THE AUTOMATIC FUNCTIONALITY TO OPEN THE URL AUTOMATICALLY\n",
    "import logging"
   ]
  },
  {
   "cell_type": "code",
   "execution_count": 2,
   "id": "cc6d77c2-3749-4090-a4f2-b1f81b8e6842",
   "metadata": {},
   "outputs": [],
   "source": [
    "flipcart_url=\"https://www.flipkart.com/search?q=\" +\"iphone11\""
   ]
  },
  {
   "cell_type": "code",
   "execution_count": 3,
   "id": "ba9a121c-33a1-4c43-b6a5-98abadb6bc9b",
   "metadata": {},
   "outputs": [
    {
     "data": {
      "text/plain": [
       "'https://www.flipkart.com/search?q=iphone11'"
      ]
     },
     "execution_count": 3,
     "metadata": {},
     "output_type": "execute_result"
    }
   ],
   "source": [
    "flipcart_url"
   ]
  },
  {
   "cell_type": "code",
   "execution_count": 11,
   "id": "ee4e76d0-6e08-428e-82d2-0f37dd54f596",
   "metadata": {},
   "outputs": [],
   "source": [
    "urlclient=uReq(flipcart_url)"
   ]
  },
  {
   "cell_type": "code",
   "execution_count": 12,
   "id": "0aa80ea0-d244-4723-b445-d3fa6d3c6916",
   "metadata": {},
   "outputs": [
    {
     "data": {
      "text/plain": [
       "<http.client.HTTPResponse at 0x7f45f4116b60>"
      ]
     },
     "execution_count": 12,
     "metadata": {},
     "output_type": "execute_result"
    }
   ],
   "source": [
    "urlclient"
   ]
  },
  {
   "cell_type": "code",
   "execution_count": 13,
   "id": "7465f090-833e-4156-8b58-88cd562adcfb",
   "metadata": {},
   "outputs": [],
   "source": [
    "flipcart_page=urlclient.read()"
   ]
  },
  {
   "cell_type": "code",
   "execution_count": 14,
   "id": "9ece5374-0ee6-4fad-88cb-55cef3fdc7ba",
   "metadata": {},
   "outputs": [],
   "source": [
    "flipcart_html=bs(flipcart_page,'html.parser')"
   ]
  },
  {
   "cell_type": "code",
   "execution_count": 15,
   "id": "c155762c-f4f9-47bf-b442-ebc68c825e44",
   "metadata": {},
   "outputs": [],
   "source": [
    "bigbox=flipcart_html.findAll(\"div\",{\"class\":\"_1AtVbE col-12-12\"})"
   ]
  },
  {
   "cell_type": "code",
   "execution_count": 16,
   "id": "e0e90944-90be-4329-8b9f-bcda7ee60fad",
   "metadata": {},
   "outputs": [
    {
     "data": {
      "text/plain": [
       "29"
      ]
     },
     "execution_count": 16,
     "metadata": {},
     "output_type": "execute_result"
    }
   ],
   "source": [
    "len(bigbox)"
   ]
  },
  {
   "cell_type": "code",
   "execution_count": 17,
   "id": "09c37cab-4245-456b-8eb9-2f53a552da84",
   "metadata": {},
   "outputs": [],
   "source": [
    "del bigbox[0:3]"
   ]
  },
  {
   "cell_type": "code",
   "execution_count": 18,
   "id": "bc760e3d-1524-488e-b1c2-1a4358c67049",
   "metadata": {},
   "outputs": [],
   "source": [
    "productlink=\"https://www.flipkart.com\" + bigbox[3].div.div.div.a['href']"
   ]
  },
  {
   "cell_type": "code",
   "execution_count": 19,
   "id": "57275099-d4af-44e9-854a-b17c3f6b64ac",
   "metadata": {},
   "outputs": [],
   "source": [
    "product_rec=requests.get(productlink)"
   ]
  },
  {
   "cell_type": "code",
   "execution_count": 27,
   "id": "1daa0dbf-9ed1-4a81-899e-e61b1423d4a0",
   "metadata": {},
   "outputs": [
    {
     "data": {
      "text/plain": [
       "'https://www.flipkart.com/apple-iphone-11-purple-64-gb/p/itm2b8d03427ddac?pid=MOBFWQ6BTFFJKGKE&lid=LSTMOBFWQ6BTFFJKGKEPGQVOJ&marketplace=FLIPKART&q=iphone11&store=tyy%2F4io&srno=s_1_5&otracker=search&fm=organic&iid=6f35b0ee-73f4-4078-b526-597728f66350.MOBFWQ6BTFFJKGKE.SEARCH&ppt=None&ppn=None&ssid=wclh74pwhs0000001692304384411&qH=d6db477051465f9a'"
      ]
     },
     "execution_count": 27,
     "metadata": {},
     "output_type": "execute_result"
    }
   ],
   "source": [
    "productlink"
   ]
  },
  {
   "cell_type": "code",
   "execution_count": 20,
   "id": "ecfc67aa-0aa5-4d64-b461-90be0b254dee",
   "metadata": {},
   "outputs": [],
   "source": [
    "product_html=bs(product_rec.text,'html.parser')"
   ]
  },
  {
   "cell_type": "code",
   "execution_count": 21,
   "id": "d48a9939-6ceb-4222-802e-3ef2349de874",
   "metadata": {},
   "outputs": [],
   "source": [
    "comment_box=product_html.find_all(\"div\",{\"class\":\"_16PBlm\"})"
   ]
  },
  {
   "cell_type": "code",
   "execution_count": 22,
   "id": "21f8b7fd-cc6d-4756-be27-4927bd22ecf5",
   "metadata": {},
   "outputs": [
    {
     "data": {
      "text/plain": [
       "11"
      ]
     },
     "execution_count": 22,
     "metadata": {},
     "output_type": "execute_result"
    }
   ],
   "source": [
    "len(comment_box)"
   ]
  },
  {
   "cell_type": "code",
   "execution_count": 23,
   "id": "ee2fd9b7-b73f-4d0c-8cb7-32ebea09c6ca",
   "metadata": {},
   "outputs": [
    {
     "name": "stdout",
     "output_type": "stream",
     "text": [
      "Sakshi Bharti\n",
      "Manish  Deshlahare\n",
      "Vishnu Ramakrishnan\n",
      "Flipkart Customer\n",
      "siva sankar\n",
      "Dev\n",
      "Abhishek Sachdeva\n",
      "Steevan Rattra \n",
      "Vikram rapolu\n",
      "Shivendra Mani \n"
     ]
    },
    {
     "ename": "AttributeError",
     "evalue": "'NoneType' object has no attribute 'div'",
     "output_type": "error",
     "traceback": [
      "\u001b[0;31m---------------------------------------------------------------------------\u001b[0m",
      "\u001b[0;31mAttributeError\u001b[0m                            Traceback (most recent call last)",
      "Cell \u001b[0;32mIn[23], line 2\u001b[0m\n\u001b[1;32m      1\u001b[0m \u001b[38;5;28;01mfor\u001b[39;00m i \u001b[38;5;129;01min\u001b[39;00m comment_box:\n\u001b[0;32m----> 2\u001b[0m     \u001b[38;5;28mprint\u001b[39m(\u001b[43mi\u001b[49m\u001b[38;5;241;43m.\u001b[39;49m\u001b[43mdiv\u001b[49m\u001b[38;5;241;43m.\u001b[39;49m\u001b[43mdiv\u001b[49m\u001b[38;5;241m.\u001b[39mfind_all(\u001b[38;5;124m'\u001b[39m\u001b[38;5;124mp\u001b[39m\u001b[38;5;124m'\u001b[39m,{\u001b[38;5;124m\"\u001b[39m\u001b[38;5;124mclass\u001b[39m\u001b[38;5;124m\"\u001b[39m: \u001b[38;5;124m\"\u001b[39m\u001b[38;5;124m_2sc7ZR _2V5EHH\u001b[39m\u001b[38;5;124m\"\u001b[39m})[\u001b[38;5;241m0\u001b[39m]\u001b[38;5;241m.\u001b[39mtext)\n",
      "\u001b[0;31mAttributeError\u001b[0m: 'NoneType' object has no attribute 'div'"
     ]
    }
   ],
   "source": [
    "for i in comment_box:\n",
    "    print(i.div.div.find_all('p',{\"class\": \"_2sc7ZR _2V5EHH\"})[0].text)"
   ]
  },
  {
   "cell_type": "code",
   "execution_count": 24,
   "id": "00fb2914-89e8-4337-9333-da58cbef4850",
   "metadata": {},
   "outputs": [
    {
     "name": "stdout",
     "output_type": "stream",
     "text": [
      "5\n",
      "5\n",
      "5\n",
      "5\n",
      "5\n",
      "5\n",
      "5\n",
      "5\n",
      "5\n",
      "5\n"
     ]
    },
    {
     "ename": "AttributeError",
     "evalue": "'NoneType' object has no attribute 'div'",
     "output_type": "error",
     "traceback": [
      "\u001b[0;31m---------------------------------------------------------------------------\u001b[0m",
      "\u001b[0;31mAttributeError\u001b[0m                            Traceback (most recent call last)",
      "Cell \u001b[0;32mIn[24], line 2\u001b[0m\n\u001b[1;32m      1\u001b[0m \u001b[38;5;28;01mfor\u001b[39;00m i \u001b[38;5;129;01min\u001b[39;00m comment_box:\n\u001b[0;32m----> 2\u001b[0m     \u001b[38;5;28mprint\u001b[39m(\u001b[43mi\u001b[49m\u001b[38;5;241;43m.\u001b[39;49m\u001b[43mdiv\u001b[49m\u001b[38;5;241;43m.\u001b[39;49m\u001b[43mdiv\u001b[49m\u001b[38;5;241m.\u001b[39mdiv\u001b[38;5;241m.\u001b[39mdiv\u001b[38;5;241m.\u001b[39mtext)\n",
      "\u001b[0;31mAttributeError\u001b[0m: 'NoneType' object has no attribute 'div'"
     ]
    }
   ],
   "source": [
    "for i in comment_box:\n",
    "    print(i.div.div.div.div.text)"
   ]
  },
  {
   "cell_type": "code",
   "execution_count": 25,
   "id": "f4090f6a-c893-4ff0-b79a-2a94755ea27f",
   "metadata": {},
   "outputs": [
    {
     "name": "stdout",
     "output_type": "stream",
     "text": [
      "Fabulous!\n",
      "Terrific\n",
      "Classy product\n",
      "Wonderful\n",
      "Classy product\n",
      "Terrific purchase\n",
      "Worth every penny\n",
      "Best in the market!\n",
      "Just wow!\n",
      "Great product\n"
     ]
    },
    {
     "ename": "AttributeError",
     "evalue": "'NoneType' object has no attribute 'div'",
     "output_type": "error",
     "traceback": [
      "\u001b[0;31m---------------------------------------------------------------------------\u001b[0m",
      "\u001b[0;31mAttributeError\u001b[0m                            Traceback (most recent call last)",
      "Cell \u001b[0;32mIn[25], line 2\u001b[0m\n\u001b[1;32m      1\u001b[0m \u001b[38;5;28;01mfor\u001b[39;00m i \u001b[38;5;129;01min\u001b[39;00m comment_box:\n\u001b[0;32m----> 2\u001b[0m     \u001b[38;5;28mprint\u001b[39m(\u001b[43mi\u001b[49m\u001b[38;5;241;43m.\u001b[39;49m\u001b[43mdiv\u001b[49m\u001b[38;5;241;43m.\u001b[39;49m\u001b[43mdiv\u001b[49m\u001b[38;5;241m.\u001b[39mdiv\u001b[38;5;241m.\u001b[39mp\u001b[38;5;241m.\u001b[39mtext)\n",
      "\u001b[0;31mAttributeError\u001b[0m: 'NoneType' object has no attribute 'div'"
     ]
    }
   ],
   "source": [
    "for i in comment_box:\n",
    "    print(i.div.div.div.p.text)"
   ]
  },
  {
   "cell_type": "code",
   "execution_count": 26,
   "id": "45ba4b83-33db-4afc-ab68-17833bb75c77",
   "metadata": {},
   "outputs": [
    {
     "name": "stdout",
     "output_type": "stream",
     "text": [
      "Super🔥 and good performance 👌❤️READ MORE\n",
      "Very very goodREAD MORE\n",
      "Camera is awesomeBest battery backupA performer 👌🏻It will be a real value for money if they provide charger and earphone inbox!READ MORE\n",
      "This is amazing at allREAD MORE\n",
      "Photos superREAD MORE\n",
      "Value for money 😍READ MORE\n",
      "Feeling awesome after getting the delivery of my phone. Dual speakers makes the sound quality very loud. Amazing!!READ MORE\n",
      "Good CameraREAD MORE\n",
      "Perfect Product!!READ MORE\n",
      "Purple is bestREAD MORE\n"
     ]
    },
    {
     "ename": "AttributeError",
     "evalue": "'NoneType' object has no attribute 'div'",
     "output_type": "error",
     "traceback": [
      "\u001b[0;31m---------------------------------------------------------------------------\u001b[0m",
      "\u001b[0;31mAttributeError\u001b[0m                            Traceback (most recent call last)",
      "Cell \u001b[0;32mIn[26], line 2\u001b[0m\n\u001b[1;32m      1\u001b[0m \u001b[38;5;28;01mfor\u001b[39;00m i \u001b[38;5;129;01min\u001b[39;00m comment_box:\n\u001b[0;32m----> 2\u001b[0m     \u001b[38;5;28mprint\u001b[39m(\u001b[43mi\u001b[49m\u001b[38;5;241;43m.\u001b[39;49m\u001b[43mdiv\u001b[49m\u001b[38;5;241;43m.\u001b[39;49m\u001b[43mdiv\u001b[49m\u001b[38;5;241m.\u001b[39mfind_all(\u001b[38;5;124m'\u001b[39m\u001b[38;5;124mdiv\u001b[39m\u001b[38;5;124m'\u001b[39m,{\u001b[38;5;124m\"\u001b[39m\u001b[38;5;124mclass\u001b[39m\u001b[38;5;124m\"\u001b[39m:\u001b[38;5;124m'\u001b[39m\u001b[38;5;124m'\u001b[39m})[\u001b[38;5;241m0\u001b[39m]\u001b[38;5;241m.\u001b[39mtext)\n",
      "\u001b[0;31mAttributeError\u001b[0m: 'NoneType' object has no attribute 'div'"
     ]
    }
   ],
   "source": [
    "for i in comment_box:\n",
    "    print(i.div.div.find_all('div',{\"class\":''})[0].text)"
   ]
  },
  {
   "cell_type": "code",
   "execution_count": 27,
   "id": "04066d01-b1cc-4289-b452-fedc1f22bdb5",
   "metadata": {},
   "outputs": [
    {
     "name": "stdout",
     "output_type": "stream",
     "text": [
      "https://www.flipkart.com/apple-iphone-11-white-64-gb/p/itmfc6a7091eb20b?pid=MOBFWQ6BVWVEH3XE&lid=LSTMOBFWQ6BVWVEH3XEMXQMLO&marketplace=FLIPKART&q=iphone11&store=tyy%2F4io&srno=s_1_2&otracker=search&fm=organic&iid=0888af2f-bdd1-4815-bc3e-d3eae8472fbe.MOBFWQ6BVWVEH3XE.SEARCH&ppt=None&ppn=None&ssid=tkehh88kog0000001692603180487&qH=d6db477051465f9a\n",
      "https://www.flipkart.com/apple-iphone-11-black-128-gb/p/itm8244e8d955aba?pid=MOBFWQ6BKRYBP5X8&lid=LSTMOBFWQ6BKRYBP5X8HS0EXP&marketplace=FLIPKART&q=iphone11&store=tyy%2F4io&srno=s_1_3&otracker=search&fm=organic&iid=0888af2f-bdd1-4815-bc3e-d3eae8472fbe.MOBFWQ6BKRYBP5X8.SEARCH&ppt=None&ppn=None&ssid=tkehh88kog0000001692603180487&qH=d6db477051465f9a\n",
      "https://www.flipkart.com/apple-iphone-11-black-64-gb/p/itm4e5041ba101fd?pid=MOBFWQ6BXGJCEYNY&lid=LSTMOBFWQ6BXGJCEYNYZE3ENS&marketplace=FLIPKART&q=iphone11&store=tyy%2F4io&srno=s_1_4&otracker=search&fm=organic&iid=0888af2f-bdd1-4815-bc3e-d3eae8472fbe.MOBFWQ6BXGJCEYNY.SEARCH&ppt=None&ppn=None&ssid=tkehh88kog0000001692603180487&qH=d6db477051465f9a\n",
      "https://www.flipkart.com/apple-iphone-11-green-64-gb/p/itm386a85013a3d1?pid=MOBFWQ6BHPMG29QM&lid=LSTMOBFWQ6BHPMG29QMMGHL6F&marketplace=FLIPKART&q=iphone11&store=tyy%2F4io&spotlightTagId=FkPickId_tyy%2F4io&srno=s_1_5&otracker=search&fm=organic&iid=0888af2f-bdd1-4815-bc3e-d3eae8472fbe.MOBFWQ6BHPMG29QM.SEARCH&ppt=None&ppn=None&ssid=tkehh88kog0000001692603180487&qH=d6db477051465f9a\n",
      "https://www.flipkart.com/apple-iphone-11-purple-64-gb/p/itm2b8d03427ddac?pid=MOBFWQ6BTFFJKGKE&lid=LSTMOBFWQ6BTFFJKGKEPGQVOJ&marketplace=FLIPKART&q=iphone11&store=tyy%2F4io&srno=s_1_6&otracker=search&fm=organic&iid=0888af2f-bdd1-4815-bc3e-d3eae8472fbe.MOBFWQ6BTFFJKGKE.SEARCH&ppt=None&ppn=None&ssid=tkehh88kog0000001692603180487&qH=d6db477051465f9a\n",
      "https://www.flipkart.com/apple-iphone-11-pro-max-midnight-green-64-gb/p/itmab1763b5ca244?pid=MOBFKCTSRYPAQNYT&lid=LSTMOBFKCTSRYPAQNYTHDWEGY&marketplace=FLIPKART&q=iphone11&store=tyy%2F4io&srno=s_1_7&otracker=search&fm=organic&iid=0888af2f-bdd1-4815-bc3e-d3eae8472fbe.MOBFKCTSRYPAQNYT.SEARCH&ppt=None&ppn=None&ssid=tkehh88kog0000001692603180487&qH=d6db477051465f9a\n",
      "https://www.flipkart.com/apple-iphone-11-pro-max-space-grey-64-gb/p/itme0101031155f8?pid=MOBFKCTSKDMKCGQS&lid=LSTMOBFKCTSKDMKCGQSOYFAJN&marketplace=FLIPKART&q=iphone11&store=tyy%2F4io&srno=s_1_8&otracker=search&fm=organic&iid=0888af2f-bdd1-4815-bc3e-d3eae8472fbe.MOBFKCTSKDMKCGQS.SEARCH&ppt=None&ppn=None&ssid=tkehh88kog0000001692603180487&qH=d6db477051465f9a\n",
      "https://www.flipkart.com/apple-iphone-6-space-grey-32-gb/p/itmetmh3hfhnxtcj?pid=MOBETMH3ZYNDPVVC&lid=LSTMOBETMH3ZYNDPVVC7BAC1S&marketplace=FLIPKART&q=iphone11&store=tyy%2F4io&srno=s_1_9&otracker=search&fm=organic&iid=0888af2f-bdd1-4815-bc3e-d3eae8472fbe.MOBETMH3ZYNDPVVC.SEARCH&ppt=None&ppn=None&ssid=tkehh88kog0000001692603180487&qH=d6db477051465f9a\n",
      "https://www.flipkart.com/apple-iphone-11-red-128-gb/p/itm8d14bd0e33a1c?pid=MOBFWQ6BEZTNK59G&lid=LSTMOBFWQ6BEZTNK59G4PTPDM&marketplace=FLIPKART&q=iphone11&store=tyy%2F4io&srno=s_1_10&otracker=search&fm=organic&iid=0888af2f-bdd1-4815-bc3e-d3eae8472fbe.MOBFWQ6BEZTNK59G.SEARCH&ppt=None&ppn=None&ssid=tkehh88kog0000001692603180487&qH=d6db477051465f9a\n",
      "https://www.flipkart.com/apple-iphone-6-silver-16-gb/p/itmefjg7xypgp8fk?pid=MOBEYHZ2NUZGCHKN&lid=LSTMOBEYHZ2NUZGCHKN7PMDIN&marketplace=FLIPKART&q=iphone11&store=tyy%2F4io&srno=s_1_11&otracker=search&fm=organic&iid=0888af2f-bdd1-4815-bc3e-d3eae8472fbe.MOBEYHZ2NUZGCHKN.SEARCH&ppt=None&ppn=None&ssid=tkehh88kog0000001692603180487&qH=d6db477051465f9a\n",
      "https://www.flipkart.com/apple-iphone-5s-silver-16-gb/p/itm5f8d433774668?pid=MOBDPPZZVUJRG582&lid=LSTMOBDPPZZVUJRG582TINQM7&marketplace=FLIPKART&q=iphone11&store=tyy%2F4io&srno=s_1_12&otracker=search&fm=organic&iid=0888af2f-bdd1-4815-bc3e-d3eae8472fbe.MOBDPPZZVUJRG582.SEARCH&ppt=None&ppn=None&ssid=tkehh88kog0000001692603180487&qH=d6db477051465f9a\n",
      "https://www.flipkart.com/apple-iphone-5s-space-grey-16-gb/p/itmf02539a2e3a6c?pid=MOBDPPZZPXVDJHSQ&lid=LSTMOBDPPZZPXVDJHSQCAKZOA&marketplace=FLIPKART&q=iphone11&store=tyy%2F4io&srno=s_1_13&otracker=search&fm=organic&iid=0888af2f-bdd1-4815-bc3e-d3eae8472fbe.MOBDPPZZPXVDJHSQ.SEARCH&ppt=None&ppn=None&ssid=tkehh88kog0000001692603180487&qH=d6db477051465f9a\n",
      "https://www.flipkart.com/apple-iphone-6-gold-32-gb/p/itmewxhuufbzchrn?pid=MOBEWXHUSBXVJ7NZ&lid=LSTMOBEWXHUSBXVJ7NZVRFXNL&marketplace=FLIPKART&q=iphone11&store=tyy%2F4io&srno=s_1_14&otracker=search&fm=organic&iid=0888af2f-bdd1-4815-bc3e-d3eae8472fbe.MOBEWXHUSBXVJ7NZ.SEARCH&ppt=None&ppn=None&ssid=tkehh88kog0000001692603180487&qH=d6db477051465f9a\n",
      "https://www.flipkart.com/apple-iphone-6-space-grey-16-gb/p/itmefjg7mzcwjyhk?pid=MOBEYHZ2YAXZMF2J&lid=LSTMOBEYHZ2YAXZMF2JEVWVNC&marketplace=FLIPKART&q=iphone11&store=tyy%2F4io&srno=s_1_15&otracker=search&fm=organic&iid=0888af2f-bdd1-4815-bc3e-d3eae8472fbe.MOBEYHZ2YAXZMF2J.SEARCH&ppt=None&ppn=None&ssid=tkehh88kog0000001692603180487&qH=d6db477051465f9a\n",
      "https://www.flipkart.com/apple-iphone-11-red-64-gb/p/itmc3935326f2feb?pid=MOBFWQ6BYYV3FCU7&lid=LSTMOBFWQ6BYYV3FCU7ZCY7Y9&marketplace=FLIPKART&q=iphone11&store=tyy%2F4io&srno=s_1_16&otracker=search&fm=organic&iid=0888af2f-bdd1-4815-bc3e-d3eae8472fbe.MOBFWQ6BYYV3FCU7.SEARCH&ppt=None&ppn=None&ssid=tkehh88kog0000001692603180487&qH=d6db477051465f9a\n",
      "https://www.flipkart.com/apple-iphone-11-yellow-64-gb/p/itm39b1a0ba9ddcb?pid=MOBFWQ6BWGX9VRFS&lid=LSTMOBFWQ6BWGX9VRFSRCZZAI&marketplace=FLIPKART&q=iphone11&store=tyy%2F4io&srno=s_1_17&otracker=search&fm=organic&iid=0888af2f-bdd1-4815-bc3e-d3eae8472fbe.MOBFWQ6BWGX9VRFS.SEARCH&ppt=None&ppn=None&ssid=tkehh88kog0000001692603180487&qH=d6db477051465f9a\n",
      "https://www.flipkart.com/apple-iphone-11-pro-max-space-grey-256-gb/p/itm2b63a650e32f7?pid=MOBFKCTSSXTRZZJD&lid=LSTMOBFKCTSSXTRZZJDH1HTO4&marketplace=FLIPKART&q=iphone11&store=tyy%2F4io&srno=s_1_18&otracker=search&fm=organic&iid=0888af2f-bdd1-4815-bc3e-d3eae8472fbe.MOBFKCTSSXTRZZJD.SEARCH&ppt=None&ppn=None&ssid=tkehh88kog0000001692603180487&qH=d6db477051465f9a\n",
      "https://www.flipkart.com/apple-iphone-11-green-128-gb/p/itm97529bbf640ca?pid=MOBFWQ6BHBKMH4BF&lid=LSTMOBFWQ6BHBKMH4BFPOHIFL&marketplace=FLIPKART&q=iphone11&store=tyy%2F4io&srno=s_1_19&otracker=search&fm=organic&iid=0888af2f-bdd1-4815-bc3e-d3eae8472fbe.MOBFWQ6BHBKMH4BF.SEARCH&ppt=None&ppn=None&ssid=tkehh88kog0000001692603180487&qH=d6db477051465f9a\n",
      "https://www.flipkart.com/apple-iphone-11-pro-max-silver-256-gb/p/itm90a95d4c7bfb4?pid=MOBFKCTSVH4EWXBV&lid=LSTMOBFKCTSVH4EWXBVDOFYMD&marketplace=FLIPKART&q=iphone11&store=tyy%2F4io&srno=s_1_20&otracker=search&fm=organic&iid=0888af2f-bdd1-4815-bc3e-d3eae8472fbe.MOBFKCTSVH4EWXBV.SEARCH&ppt=None&ppn=None&ssid=tkehh88kog0000001692603180487&qH=d6db477051465f9a\n",
      "https://www.flipkart.com/apple-iphone-11-pro-max-midnight-green-512-gb/p/itm47ba29bf364fe?pid=MOBFKCTSG2PWQGCK&lid=LSTMOBFKCTSG2PWQGCKANZW0C&marketplace=FLIPKART&q=iphone11&store=tyy%2F4io&srno=s_1_21&otracker=search&fm=organic&iid=0888af2f-bdd1-4815-bc3e-d3eae8472fbe.MOBFKCTSG2PWQGCK.SEARCH&ppt=None&ppn=None&ssid=tkehh88kog0000001692603180487&qH=d6db477051465f9a\n",
      "https://www.flipkart.com/apple-iphone-11-pro-gold-512-gb/p/itm29ba3b4eeb4d5?pid=MOBFKCTS7CGXBRYE&lid=LSTMOBFKCTS7CGXBRYEVDPFSF&marketplace=FLIPKART&q=iphone11&store=tyy%2F4io&srno=s_1_22&otracker=search&fm=organic&iid=0888af2f-bdd1-4815-bc3e-d3eae8472fbe.MOBFKCTS7CGXBRYE.SEARCH&ppt=None&ppn=None&ssid=tkehh88kog0000001692603180487&qH=d6db477051465f9a\n",
      "https://www.flipkart.com/apple-iphone-6-gold-64-gb/p/itm56bdf0f43f46e?pid=MOBEYHZ2VSVKHAZH&lid=LSTMOBEYHZ2VSVKHAZH3F1MMU&marketplace=FLIPKART&q=iphone11&store=tyy%2F4io&srno=s_1_23&otracker=search&fm=organic&iid=0888af2f-bdd1-4815-bc3e-d3eae8472fbe.MOBEYHZ2VSVKHAZH.SEARCH&ppt=None&ppn=None&ssid=tkehh88kog0000001692603180487&qH=d6db477051465f9a\n",
      "https://www.flipkart.com/apple-iphone-6-gold-128-gb/p/itmefjg7pf7fzhhr?pid=MOBEYHZ254METXXB&lid=LSTMOBEYHZ254METXXBCUCPSP&marketplace=FLIPKART&q=iphone11&store=tyy%2F4io&srno=s_1_24&otracker=search&fm=organic&iid=0888af2f-bdd1-4815-bc3e-d3eae8472fbe.MOBEYHZ254METXXB.SEARCH&ppt=None&ppn=None&ssid=tkehh88kog0000001692603180487&qH=d6db477051465f9a\n"
     ]
    },
    {
     "ename": "AttributeError",
     "evalue": "'NoneType' object has no attribute 'a'",
     "output_type": "error",
     "traceback": [
      "\u001b[0;31m---------------------------------------------------------------------------\u001b[0m",
      "\u001b[0;31mAttributeError\u001b[0m                            Traceback (most recent call last)",
      "Cell \u001b[0;32mIn[27], line 2\u001b[0m\n\u001b[1;32m      1\u001b[0m \u001b[38;5;28;01mfor\u001b[39;00m i \u001b[38;5;129;01min\u001b[39;00m bigbox:\n\u001b[0;32m----> 2\u001b[0m     \u001b[38;5;28mprint\u001b[39m(\u001b[38;5;124m\"\u001b[39m\u001b[38;5;124mhttps://www.flipkart.com\u001b[39m\u001b[38;5;124m\"\u001b[39m \u001b[38;5;241m+\u001b[39m \u001b[43mi\u001b[49m\u001b[38;5;241;43m.\u001b[39;49m\u001b[43mdiv\u001b[49m\u001b[38;5;241;43m.\u001b[39;49m\u001b[43mdiv\u001b[49m\u001b[38;5;241;43m.\u001b[39;49m\u001b[43mdiv\u001b[49m\u001b[38;5;241;43m.\u001b[39;49m\u001b[43ma\u001b[49m[\u001b[38;5;124m'\u001b[39m\u001b[38;5;124mhref\u001b[39m\u001b[38;5;124m'\u001b[39m])\n\u001b[1;32m      3\u001b[0m     \u001b[38;5;66;03m# WE HAVE TO TAKE VALUES FROM THREE BECAUSE THERE are NO HREF FUNCTION\u001b[39;00m\n",
      "\u001b[0;31mAttributeError\u001b[0m: 'NoneType' object has no attribute 'a'"
     ]
    }
   ],
   "source": [
    "for i in bigbox:\n",
    "    print(\"https://www.flipkart.com\" + i.div.div.div.a['href'])\n",
    "    # WE HAVE TO TAKE VALUES FROM THREE BECAUSE THERE are NO HREF FUNCTION"
   ]
  }
 ],
 "metadata": {
  "kernelspec": {
   "display_name": "Python 3 (ipykernel)",
   "language": "python",
   "name": "python3"
  },
  "language_info": {
   "codemirror_mode": {
    "name": "ipython",
    "version": 3
   },
   "file_extension": ".py",
   "mimetype": "text/x-python",
   "name": "python",
   "nbconvert_exporter": "python",
   "pygments_lexer": "ipython3",
   "version": "3.10.8"
  }
 },
 "nbformat": 4,
 "nbformat_minor": 5
}
